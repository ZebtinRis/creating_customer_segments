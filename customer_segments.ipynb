{
 "cells": [
  {
   "cell_type": "markdown",
   "metadata": {},
   "source": [
    "# Creating Customer Segments"
   ]
  },
  {
   "cell_type": "markdown",
   "metadata": {},
   "source": [
    "In this project you, will analyze a dataset containing annual spending amounts for internal structure, to understand the variation in the different types of customers that a wholesale distributor interacts with.\n",
    "\n",
    "Instructions:\n",
    "\n",
    "- Run each code block below by pressing **Shift+Enter**, making sure to implement any steps marked with a TODO.\n",
    "- Answer each question in the space provided by editing the blocks labeled \"Answer:\".\n",
    "- When you are done, submit the completed notebook (.ipynb) with all code blocks executed, as well as a .pdf version (File > Download as)."
   ]
  },
  {
   "cell_type": "code",
   "execution_count": 3,
   "metadata": {
    "collapsed": false
   },
   "outputs": [
    {
     "name": "stdout",
     "output_type": "stream",
     "text": [
      "Dataset has 440 rows, 6 columns\n"
     ]
    },
    {
     "data": {
      "text/html": [
       "<div>\n",
       "<table border=\"1\" class=\"dataframe\">\n",
       "  <thead>\n",
       "    <tr style=\"text-align: right;\">\n",
       "      <th></th>\n",
       "      <th>Fresh</th>\n",
       "      <th>Milk</th>\n",
       "      <th>Grocery</th>\n",
       "      <th>Frozen</th>\n",
       "      <th>Detergents_Paper</th>\n",
       "      <th>Delicatessen</th>\n",
       "    </tr>\n",
       "  </thead>\n",
       "  <tbody>\n",
       "    <tr>\n",
       "      <th>0</th>\n",
       "      <td>12669</td>\n",
       "      <td>9656</td>\n",
       "      <td>7561</td>\n",
       "      <td>214</td>\n",
       "      <td>2674</td>\n",
       "      <td>1338</td>\n",
       "    </tr>\n",
       "    <tr>\n",
       "      <th>1</th>\n",
       "      <td>7057</td>\n",
       "      <td>9810</td>\n",
       "      <td>9568</td>\n",
       "      <td>1762</td>\n",
       "      <td>3293</td>\n",
       "      <td>1776</td>\n",
       "    </tr>\n",
       "    <tr>\n",
       "      <th>2</th>\n",
       "      <td>6353</td>\n",
       "      <td>8808</td>\n",
       "      <td>7684</td>\n",
       "      <td>2405</td>\n",
       "      <td>3516</td>\n",
       "      <td>7844</td>\n",
       "    </tr>\n",
       "    <tr>\n",
       "      <th>3</th>\n",
       "      <td>13265</td>\n",
       "      <td>1196</td>\n",
       "      <td>4221</td>\n",
       "      <td>6404</td>\n",
       "      <td>507</td>\n",
       "      <td>1788</td>\n",
       "    </tr>\n",
       "    <tr>\n",
       "      <th>4</th>\n",
       "      <td>22615</td>\n",
       "      <td>5410</td>\n",
       "      <td>7198</td>\n",
       "      <td>3915</td>\n",
       "      <td>1777</td>\n",
       "      <td>5185</td>\n",
       "    </tr>\n",
       "  </tbody>\n",
       "</table>\n",
       "</div>"
      ],
      "text/plain": [
       "   Fresh  Milk  Grocery  Frozen  Detergents_Paper  Delicatessen\n",
       "0  12669  9656     7561     214              2674          1338\n",
       "1   7057  9810     9568    1762              3293          1776\n",
       "2   6353  8808     7684    2405              3516          7844\n",
       "3  13265  1196     4221    6404               507          1788\n",
       "4  22615  5410     7198    3915              1777          5185"
      ]
     },
     "metadata": {},
     "output_type": "display_data"
    }
   ],
   "source": [
    "# Import libraries: NumPy, pandas, matplotlib\n",
    "import numpy as np\n",
    "import pandas as pd\n",
    "import matplotlib.pyplot as plt\n",
    "import seaborn as sns\n",
    "\n",
    "# Tell iPython to include plots inline in the notebook\n",
    "%matplotlib inline\n",
    "from IPython.display import display\n",
    "\n",
    "# Read dataset\n",
    "data = pd.read_csv(\"wholesale-customers.csv\")\n",
    "X = data\n",
    "Y = data.columns\n",
    "n_samples, h = data.shape\n",
    "print \"Dataset has {} rows, {} columns\".format(*data.shape)\n",
    "display(data.head()) # print the first 5 rows"
   ]
  },
  {
   "cell_type": "markdown",
   "metadata": {},
   "source": [
    "##Feature Transformation"
   ]
  },
  {
   "cell_type": "markdown",
   "metadata": {},
   "source": [
    "**1)** In this section you will be using PCA and ICA to start to understand the structure of the data. Before doing any computations, what do you think will show up in your computations? List one or two ideas for what might show up as the first PCA dimensions, or what type of vectors will show up as ICA dimensions."
   ]
  },
  {
   "cell_type": "markdown",
   "metadata": {},
   "source": [
    "Answer:"
   ]
  },
  {
   "cell_type": "markdown",
   "metadata": {},
   "source": [
    "### PCA:\n",
    "\n",
    "PCA will maximize variance and help us reduce the dimensionality. So in general terms I expect the PCA analisis to show how buying from multiple categories together will help us identify what segments exists (based on the combined purchases on different categories) so we can then decide how to group and where to put each customer.\n",
    "Looking at the head of the data, it seems like this distributor sells fresh, milk, frozen and groceries more than the other 2 categories. Knowing the type of distributor we are dealing with should help us understand the type of clients that shop here and how we can group them together. Exploring the dada we find that teh \"Fresh\" category is looking like it will be the prinipal factor.\n",
    "\n",
    "### ICA:\n",
    "\n",
    "ICA will help us find ways to maximize independence. I would expect ICA to tell us what independent new \"features\" could be used to best represent this data with new independent features. ICA should give us a 6x6 view/vector as we have 6 dimensions. The vectors should show how the diferent combinations of preferences can yield different categories of customers."
   ]
  },
  {
   "cell_type": "code",
   "execution_count": 7,
   "metadata": {
    "collapsed": false
   },
   "outputs": [
    {
     "data": {
      "text/html": [
       "<div>\n",
       "<table border=\"1\" class=\"dataframe\">\n",
       "  <thead>\n",
       "    <tr style=\"text-align: right;\">\n",
       "      <th></th>\n",
       "      <th>Fresh</th>\n",
       "      <th>Milk</th>\n",
       "      <th>Grocery</th>\n",
       "      <th>Frozen</th>\n",
       "      <th>Detergents_Paper</th>\n",
       "      <th>Delicatessen</th>\n",
       "    </tr>\n",
       "  </thead>\n",
       "  <tbody>\n",
       "    <tr>\n",
       "      <th>PC1</th>\n",
       "      <td>-0.976537</td>\n",
       "      <td>-0.121184</td>\n",
       "      <td>-0.061540</td>\n",
       "      <td>-0.152365</td>\n",
       "      <td>0.007054</td>\n",
       "      <td>-0.068105</td>\n",
       "    </tr>\n",
       "    <tr>\n",
       "      <th>PC2</th>\n",
       "      <td>-0.110614</td>\n",
       "      <td>0.515802</td>\n",
       "      <td>0.764606</td>\n",
       "      <td>-0.018723</td>\n",
       "      <td>0.365351</td>\n",
       "      <td>0.057079</td>\n",
       "    </tr>\n",
       "    <tr>\n",
       "      <th>PC3</th>\n",
       "      <td>-0.178557</td>\n",
       "      <td>0.509887</td>\n",
       "      <td>-0.275781</td>\n",
       "      <td>0.714200</td>\n",
       "      <td>-0.204410</td>\n",
       "      <td>0.283217</td>\n",
       "    </tr>\n",
       "    <tr>\n",
       "      <th>PC4</th>\n",
       "      <td>-0.041876</td>\n",
       "      <td>-0.645640</td>\n",
       "      <td>0.375460</td>\n",
       "      <td>0.646292</td>\n",
       "      <td>0.149380</td>\n",
       "      <td>-0.020396</td>\n",
       "    </tr>\n",
       "    <tr>\n",
       "      <th>PC5</th>\n",
       "      <td>0.015986</td>\n",
       "      <td>0.203236</td>\n",
       "      <td>-0.160292</td>\n",
       "      <td>0.220186</td>\n",
       "      <td>0.207930</td>\n",
       "      <td>-0.917077</td>\n",
       "    </tr>\n",
       "    <tr>\n",
       "      <th>PC6</th>\n",
       "      <td>-0.015763</td>\n",
       "      <td>0.033492</td>\n",
       "      <td>0.410939</td>\n",
       "      <td>-0.013289</td>\n",
       "      <td>-0.871284</td>\n",
       "      <td>-0.265417</td>\n",
       "    </tr>\n",
       "  </tbody>\n",
       "</table>\n",
       "</div>"
      ],
      "text/plain": [
       "        Fresh      Milk   Grocery    Frozen  Detergents_Paper  Delicatessen\n",
       "PC1 -0.976537 -0.121184 -0.061540 -0.152365          0.007054     -0.068105\n",
       "PC2 -0.110614  0.515802  0.764606 -0.018723          0.365351      0.057079\n",
       "PC3 -0.178557  0.509887 -0.275781  0.714200         -0.204410      0.283217\n",
       "PC4 -0.041876 -0.645640  0.375460  0.646292          0.149380     -0.020396\n",
       "PC5  0.015986  0.203236 -0.160292  0.220186          0.207930     -0.917077\n",
       "PC6 -0.015763  0.033492  0.410939 -0.013289         -0.871284     -0.265417"
      ]
     },
     "metadata": {},
     "output_type": "display_data"
    },
    {
     "data": {
      "text/html": [
       "<div>\n",
       "<table border=\"1\" class=\"dataframe\">\n",
       "  <thead>\n",
       "    <tr style=\"text-align: right;\">\n",
       "      <th></th>\n",
       "      <th>1</th>\n",
       "      <th>2</th>\n",
       "      <th>3</th>\n",
       "      <th>4</th>\n",
       "      <th>5</th>\n",
       "      <th>6</th>\n",
       "    </tr>\n",
       "  </thead>\n",
       "  <tbody>\n",
       "    <tr>\n",
       "      <th>0</th>\n",
       "      <td>0.459614</td>\n",
       "      <td>0.405172</td>\n",
       "      <td>0.07003</td>\n",
       "      <td>0.044023</td>\n",
       "      <td>0.015022</td>\n",
       "      <td>0.006138</td>\n",
       "    </tr>\n",
       "  </tbody>\n",
       "</table>\n",
       "</div>"
      ],
      "text/plain": [
       "          1         2        3         4         5         6\n",
       "0  0.459614  0.405172  0.07003  0.044023  0.015022  0.006138"
      ]
     },
     "metadata": {},
     "output_type": "display_data"
    },
    {
     "data": {
      "text/plain": [
       "<matplotlib.text.Text at 0x10f30f510>"
      ]
     },
     "execution_count": 7,
     "metadata": {},
     "output_type": "execute_result"
    },
    {
     "data": {
      "image/png": "[encoded data removed]",
      "text/plain": [
       "<matplotlib.figure.Figure at 0x113b17950>"
      ]
     },
     "metadata": {},
     "output_type": "display_data"
    }
   ],
   "source": [
    "# TODO: Apply PCA with the same number of dimensions as variables in the dataset\n",
    "from sklearn.decomposition import PCA\n",
    "pca = PCA().fit(X)\n",
    "\n",
    "# Print the components and the amount of variance in the data contained in each dimension\n",
    "pca_df = pd.DataFrame(pca.components_, columns=list(data.columns), index=[\"PC1\", \"PC2\", \"PC3\", \"PC4\", \"PC5\", \"PC6\",])\n",
    "display(pca_df)\n",
    "dim_df = pd.DataFrame(pca.explained_variance_ratio_).transpose()\n",
    "dim_df.columns = [\"1\", \"2\", \"3\", \"4\", \"5\", \"6\"]\n",
    "#print pca.explained_variance_ratio_\n",
    "display(dim_df)\n",
    "plt.plot(dim_df.T)\n",
    "plt.title(\"Explained Variance Per Dimension\")"
   ]
  },
  {
   "cell_type": "markdown",
   "metadata": {},
   "source": [
    "**2)** How quickly does the variance drop off by dimension? If you were to use PCA on this dataset, how many dimensions would you choose for your analysis? Why?"
   ]
  },
  {
   "cell_type": "markdown",
   "metadata": {
    "collapsed": true
   },
   "source": [
    "Answer: \n",
    "\n",
    "\n",
    "As seen on the figure, between the first and second dimension there is a 0.054442 drop.\n",
    "\n",
    "Between the second and third the drop is much grater (0.335142).\n",
    "\n",
    "With 2 dimesions we will represent most of the variance (0.864786) and will also be able to represent this in a 2D diagram. The complexity of adding a third or 4th dimesion is not worth the small gain in represented variance."
   ]
  },
  {
   "cell_type": "markdown",
   "metadata": {},
   "source": [
    "**3)** What do the dimensions seem to represent? How can you use this information?"
   ]
  },
  {
   "cell_type": "markdown",
   "metadata": {
    "collapsed": true
   },
   "source": [
    "Answer: \n",
    "The first component is mostly made up of largely Fresh and a little Frozen and Milk.\n",
    "The second component is made up of Grocery, Milk and Detergents_Paper.\n",
    "\n",
    "This tells us that the best way to reduce the data from 6 dimensions into 2 with the minimal loss of data is to think about separating customers based on how much they consume in Fresh, then Milk and the Groceries and Detergents_Paper. By reducing the dimesnionality we can avoid the \"curse of dinensionality\" where the necesary data grwos exponentailly to the number of dimensions and 2D has the added benefit of baeing easily repsresented on a 2d graph."
   ]
  },
  {
   "cell_type": "markdown",
   "metadata": {},
   "source": [
    "### ICA"
   ]
  },
  {
   "cell_type": "code",
   "execution_count": 12,
   "metadata": {
    "collapsed": false
   },
   "outputs": [
    {
     "data": {
      "text/html": [
       "<div>\n",
       "<table border=\"1\" class=\"dataframe\">\n",
       "  <thead>\n",
       "    <tr style=\"text-align: right;\">\n",
       "      <th></th>\n",
       "      <th>Fresh</th>\n",
       "      <th>Milk</th>\n",
       "      <th>Grocery</th>\n",
       "      <th>Frozen</th>\n",
       "      <th>Detergents_Paper</th>\n",
       "      <th>Delicatessen</th>\n",
       "    </tr>\n",
       "  </thead>\n",
       "  <tbody>\n",
       "    <tr>\n",
       "      <th>IC1</th>\n",
       "      <td>-0.010908</td>\n",
       "      <td>-0.001086</td>\n",
       "      <td>0.007308</td>\n",
       "      <td>0.054056</td>\n",
       "      <td>-0.002541</td>\n",
       "      <td>-0.016757</td>\n",
       "    </tr>\n",
       "    <tr>\n",
       "      <th>IC2</th>\n",
       "      <td>0.002538</td>\n",
       "      <td>-0.012328</td>\n",
       "      <td>0.069129</td>\n",
       "      <td>0.001424</td>\n",
       "      <td>-0.013749</td>\n",
       "      <td>-0.005441</td>\n",
       "    </tr>\n",
       "    <tr>\n",
       "      <th>IC3</th>\n",
       "      <td>-0.004906</td>\n",
       "      <td>-0.001539</td>\n",
       "      <td>-0.005621</td>\n",
       "      <td>-0.002525</td>\n",
       "      <td>0.002384</td>\n",
       "      <td>0.050929</td>\n",
       "    </tr>\n",
       "    <tr>\n",
       "      <th>IC4</th>\n",
       "      <td>-0.003363</td>\n",
       "      <td>0.018630</td>\n",
       "      <td>0.108990</td>\n",
       "      <td>-0.007232</td>\n",
       "      <td>-0.133386</td>\n",
       "      <td>-0.016023</td>\n",
       "    </tr>\n",
       "    <tr>\n",
       "      <th>IC5</th>\n",
       "      <td>-0.050266</td>\n",
       "      <td>0.006472</td>\n",
       "      <td>0.007482</td>\n",
       "      <td>0.003224</td>\n",
       "      <td>-0.011471</td>\n",
       "      <td>0.002708</td>\n",
       "    </tr>\n",
       "    <tr>\n",
       "      <th>IC6</th>\n",
       "      <td>-0.001939</td>\n",
       "      <td>-0.072455</td>\n",
       "      <td>0.056476</td>\n",
       "      <td>0.001674</td>\n",
       "      <td>-0.017140</td>\n",
       "      <td>0.016956</td>\n",
       "    </tr>\n",
       "  </tbody>\n",
       "</table>\n",
       "</div>"
      ],
      "text/plain": [
       "        Fresh      Milk   Grocery    Frozen  Detergents_Paper  Delicatessen\n",
       "IC1 -0.010908 -0.001086  0.007308  0.054056         -0.002541     -0.016757\n",
       "IC2  0.002538 -0.012328  0.069129  0.001424         -0.013749     -0.005441\n",
       "IC3 -0.004906 -0.001539 -0.005621 -0.002525          0.002384      0.050929\n",
       "IC4 -0.003363  0.018630  0.108990 -0.007232         -0.133386     -0.016023\n",
       "IC5 -0.050266  0.006472  0.007482  0.003224         -0.011471      0.002708\n",
       "IC6 -0.001939 -0.072455  0.056476  0.001674         -0.017140      0.016956"
      ]
     },
     "metadata": {},
     "output_type": "display_data"
    },
    {
     "data": {
      "text/plain": [
       "<matplotlib.axes._subplots.AxesSubplot at 0x1145678d0>"
      ]
     },
     "execution_count": 12,
     "metadata": {},
     "output_type": "execute_result"
    },
    {
     "data": {
      "image/png": "[encoded data removed]",
      "text/plain": [
       "<matplotlib.figure.Figure at 0x113d25490>"
      ]
     },
     "metadata": {},
     "output_type": "display_data"
    },
    {
     "data": {
      "image/png": "[encoded data removed]",
      "text/plain": [
       "<matplotlib.figure.Figure at 0x1142e36d0>"
      ]
     },
     "metadata": {},
     "output_type": "display_data"
    }
   ],
   "source": [
    "# TODO: Fit an ICA model to the data\n",
    "# Note: Adjust the data to have center at the origin first!\n",
    "from sklearn.decomposition import FastICA\n",
    "from sklearn.preprocessing import StandardScaler\n",
    "\n",
    "scaler = StandardScaler()\n",
    "data_scaled = scaler.fit_transform(data)\n",
    "# use a random_state to make it consistent between runs\n",
    "ica = FastICA(random_state=42).fit(data_scaled)\n",
    "# Print the independent components\n",
    "ica_df = pd.DataFrame(ica.components_, columns=list(data.columns), index=[\"IC1\",\"IC2\",\"IC3\",\"IC4\",\"IC5\",\"IC6\"])\n",
    "display(ica_df)\n",
    "\n",
    "ica_df.plot(kind = 'bar')\n",
    "plt.figure()\n",
    "sns.heatmap(ica_df, annot=True)"
   ]
  },
  {
   "cell_type": "markdown",
   "metadata": {},
   "source": [
    "**4)** For each vector in the ICA decomposition, write a sentence or two explaining what sort of object or property it corresponds to. What could these components be used for?"
   ]
  },
  {
   "cell_type": "markdown",
   "metadata": {
    "collapsed": true
   },
   "source": [
    "Answer: \n",
    "\n",
    "**IC1:** Customers here show a preference for ordering frozen foods.\n",
    "\n",
    "**IC2:** Customers here show a preference for ordering groceries.\n",
    "\n",
    "**IC3:** Customers here show a preference for ordering Delicatessen.\n",
    "\n",
    "**IC4:** Customers here show both a preference for grocery and little ordering of Detergents_Paper products.\n",
    "\n",
    "**IC5:** Customers here seem to be very similar, only ordering less Fresh foods.\n",
    "\n",
    "**IC6:** Here we see a clear preference for Grocery and a lack of shopping for milk.\n",
    "\n",
    "The components help us identify independent types of customers, which would allow us to segment them maximizing their independence, in order to avoid the problem described in the breif, where customers were assumed to be the same, until changing the delivery revealed different types of customers responded differently."
   ]
  },
  {
   "cell_type": "markdown",
   "metadata": {},
   "source": [
    "##Clustering\n",
    "\n",
    "In this section you will choose either K Means clustering or Gaussian Mixed Models clustering, which implements expectation-maximization. Then you will sample elements from the clusters to understand their significance."
   ]
  },
  {
   "cell_type": "markdown",
   "metadata": {},
   "source": [
    "###Choose a Cluster Type\n",
    "\n",
    "**5)** What are the advantages of using K Means clustering or Gaussian Mixture Models?"
   ]
  },
  {
   "cell_type": "markdown",
   "metadata": {},
   "source": [
    "Answer: \n",
    "\n",
    "KMeans is based on a very simple algorithm, starting with random centers, and trying to minimize the distance between all the points or a center, moving the center and iterating until a set amount.\n",
    "GMM is based on finding subpopulations by finding sub gaussians that fit the data.\n",
    "\n",
    "KMeans is very fast and cheap, which makes it a great choice when resources are limited.\n",
    "GMM is more complex and in real world comparisons appears to be slower than SKleanrs implementation of KMeans.\n",
    "    \n",
    "KMeans depends on a random assignment of initial centroids, which will vary on each run and will change the resulting clusters while GMM will be consistent.\n",
    "    \n",
    "In KMeans, one item can only belong to one cluster (no \"soft clusters\"), GMM provides soft cluster support.\n",
    "\n",
    "Given the small amount of data, speed will not be a mayor consideration, so we will go with GMM.\n",
    "    "
   ]
  },
  {
   "cell_type": "markdown",
   "metadata": {},
   "source": [
    "**6)** Below is some starter code to help you visualize some cluster data. The visualization is based on [this demo](http://scikit-learn.org/stable/auto_examples/cluster/plot_kmeans_digits.html) from the sklearn documentation."
   ]
  },
  {
   "cell_type": "code",
   "execution_count": 17,
   "metadata": {
    "collapsed": true
   },
   "outputs": [],
   "source": [
    "# Import clustering modules\n",
    "from sklearn.cluster import KMeans\n",
    "from sklearn.mixture import GMM"
   ]
  },
  {
   "cell_type": "code",
   "execution_count": 15,
   "metadata": {
    "collapsed": false
   },
   "outputs": [
    {
     "data": {
      "text/html": [
       "<div>\n",
       "<table border=\"1\" class=\"dataframe\">\n",
       "  <thead>\n",
       "    <tr style=\"text-align: right;\">\n",
       "      <th></th>\n",
       "      <th>1</th>\n",
       "      <th>2</th>\n",
       "    </tr>\n",
       "  </thead>\n",
       "  <tbody>\n",
       "    <tr>\n",
       "      <th>0</th>\n",
       "      <td>-650.022122</td>\n",
       "      <td>1585.519090</td>\n",
       "    </tr>\n",
       "    <tr>\n",
       "      <th>1</th>\n",
       "      <td>4426.804979</td>\n",
       "      <td>4042.451509</td>\n",
       "    </tr>\n",
       "    <tr>\n",
       "      <th>2</th>\n",
       "      <td>4841.998707</td>\n",
       "      <td>2578.762176</td>\n",
       "    </tr>\n",
       "    <tr>\n",
       "      <th>3</th>\n",
       "      <td>-990.346437</td>\n",
       "      <td>-6279.805997</td>\n",
       "    </tr>\n",
       "    <tr>\n",
       "      <th>4</th>\n",
       "      <td>-10657.998731</td>\n",
       "      <td>-2159.725815</td>\n",
       "    </tr>\n",
       "    <tr>\n",
       "      <th>5</th>\n",
       "      <td>2765.961593</td>\n",
       "      <td>-959.870727</td>\n",
       "    </tr>\n",
       "    <tr>\n",
       "      <th>6</th>\n",
       "      <td>715.550892</td>\n",
       "      <td>-2013.002266</td>\n",
       "    </tr>\n",
       "    <tr>\n",
       "      <th>7</th>\n",
       "      <td>4474.583667</td>\n",
       "      <td>1429.496972</td>\n",
       "    </tr>\n",
       "    <tr>\n",
       "      <th>8</th>\n",
       "      <td>6712.095397</td>\n",
       "      <td>-2205.909156</td>\n",
       "    </tr>\n",
       "    <tr>\n",
       "      <th>9</th>\n",
       "      <td>4823.634354</td>\n",
       "      <td>13480.559205</td>\n",
       "    </tr>\n",
       "  </tbody>\n",
       "</table>\n",
       "</div>"
      ],
      "text/plain": [
       "              1             2\n",
       "0   -650.022122   1585.519090\n",
       "1   4426.804979   4042.451509\n",
       "2   4841.998707   2578.762176\n",
       "3   -990.346437  -6279.805997\n",
       "4 -10657.998731  -2159.725815\n",
       "5   2765.961593   -959.870727\n",
       "6    715.550892  -2013.002266\n",
       "7   4474.583667   1429.496972\n",
       "8   6712.095397  -2205.909156\n",
       "9   4823.634354  13480.559205"
      ]
     },
     "metadata": {},
     "output_type": "display_data"
    }
   ],
   "source": [
    "# TODO: First we reduce the data to two dimensions using PCA to capture variation\n",
    "reduced_data = PCA(n_components=2).fit_transform(data)\n",
    "reduced_data_df = pd.DataFrame(reduced_data[:10], columns=[\"1\", \"2\"])\n",
    "display(reduced_data_df) # print up to 10 elements"
   ]
  },
  {
   "cell_type": "code",
   "execution_count": 24,
   "metadata": {
    "collapsed": false
   },
   "outputs": [],
   "source": [
    "# TODO: Implement your clustering algorithm here, and fit it to the reduced data for visualization\n",
    "# The visualizer below assumes your clustering object is named 'clusters'\n",
    "\n",
    "clusters_2 = GMM(n_components=2).fit(reduced_data)"
   ]
  },
  {
   "cell_type": "code",
   "execution_count": 109,
   "metadata": {
    "collapsed": false
   },
   "outputs": [
    {
     "data": {
      "text/plain": [
       "<matplotlib.figure.Figure at 0x11de86c10>"
      ]
     },
     "metadata": {},
     "output_type": "display_data"
    },
    {
     "data": {
      "image/png": "[encoded data removed]",
      "text/plain": [
       "<matplotlib.figure.Figure at 0x11867d410>"
      ]
     },
     "metadata": {},
     "output_type": "display_data"
    }
   ],
   "source": [
    "def plot_clustering(clusters):\n",
    "    # Plot the decision boundary by building a mesh grid to populate a graph.\n",
    "    x_min, x_max = reduced_data[:, 0].min() - 1, reduced_data[:, 0].max() + 1\n",
    "    y_min, y_max = reduced_data[:, 1].min() - 1, reduced_data[:, 1].max() + 1\n",
    "    hx = (x_max-x_min)/1000.\n",
    "    hy = (y_max-y_min)/1000.\n",
    "    xx, yy = np.meshgrid(np.arange(x_min, x_max, hx), np.arange(y_min, y_max, hy))\n",
    "\n",
    "    # Obtain labels for each point in mesh. Use last trained model.\n",
    "    Z = clusters.predict(np.c_[xx.ravel(), yy.ravel()])\n",
    "    centroids = clusters.means_\n",
    "    # Put the result into a color plot\n",
    "    Z = Z.reshape(xx.shape)\n",
    "    plt.figure(1)\n",
    "    plt.figure(figsize=(15,8))\n",
    "    plt.clf()\n",
    "    \n",
    "    plt.imshow(Z, interpolation='nearest',\n",
    "               extent=(xx.min(), xx.max(), yy.min(), yy.max()),\n",
    "               cmap=plt.cm.Paired,\n",
    "               aspect='auto', origin='lower')\n",
    "               \n",
    "    plt.plot(reduced_data[:, 0], reduced_data[:, 1], 'k.', markersize=2*2)\n",
    "    \n",
    "    plt.scatter(centroids[:, 0], centroids[:, 1],\n",
    "                marker='x', s=169, linewidths=3,\n",
    "                color='w', zorder=10)\n",
    "    for i, c in enumerate(centroids):\n",
    "        plt.scatter(c[0], c[1], marker='${}$'.format(i), alpha=1, s=700, color='b')\n",
    "    plt.title('Clustering on the wholesale grocery dataset (PCA-reduced data)\\n'\n",
    "              'Centroids are marked with white cross')\n",
    "    plt.xlim(x_min, x_max)\n",
    "    plt.ylim(y_min, y_max)\n",
    "    plt.xticks(())\n",
    "    plt.yticks(())\n",
    "    plt.ylabel(\"PC2 Transform\")\n",
    "    plt.xlabel(\"PC1 Transform\")\n",
    "    plt.legend()\n",
    "    plt.show()\n",
    "plot_clustering(clusters_2)"
   ]
  },
  {
   "cell_type": "markdown",
   "metadata": {},
   "source": [
    "Here we can see there are two general groups. but just by looking at it we can intuitively see more clusters than just these 2. We will now explore with 4 clusters."
   ]
  },
  {
   "cell_type": "code",
   "execution_count": 112,
   "metadata": {
    "collapsed": false
   },
   "outputs": [],
   "source": [
    "clusters_4 = GMM(n_components=4).fit(reduced_data)"
   ]
  },
  {
   "cell_type": "code",
   "execution_count": 115,
   "metadata": {
    "collapsed": false
   },
   "outputs": [
    {
     "data": {
      "text/plain": [
       "<matplotlib.figure.Figure at 0x109f39c10>"
      ]
     },
     "metadata": {},
     "output_type": "display_data"
    },
    {
     "data": {
      "image/png": "[encoded data removed]",
      "text/plain": [
       "<matplotlib.figure.Figure at 0x11432c9d0>"
      ]
     },
     "metadata": {},
     "output_type": "display_data"
    }
   ],
   "source": [
    "#Keep this on a separate cell so we can draw without re-fitting and moving hte clusters around\n",
    "plot_clustering(clusters_4)"
   ]
  },
  {
   "cell_type": "markdown",
   "metadata": {},
   "source": [
    "## Sampling"
   ]
  },
  {
   "cell_type": "code",
   "execution_count": 119,
   "metadata": {
    "collapsed": false
   },
   "outputs": [
    {
     "name": "stdout",
     "output_type": "stream",
     "text": [
      "Cluster 0 Sample:\n"
     ]
    },
    {
     "data": {
      "text/html": [
       "<div>\n",
       "<table border=\"1\" class=\"dataframe\">\n",
       "  <thead>\n",
       "    <tr style=\"text-align: right;\">\n",
       "      <th></th>\n",
       "      <th>Fresh</th>\n",
       "      <th>Milk</th>\n",
       "      <th>Grocery</th>\n",
       "      <th>Frozen</th>\n",
       "      <th>Detergents_Paper</th>\n",
       "      <th>Delicatessen</th>\n",
       "    </tr>\n",
       "  </thead>\n",
       "  <tbody>\n",
       "    <tr>\n",
       "      <th>0</th>\n",
       "      <td>12669</td>\n",
       "      <td>9656</td>\n",
       "      <td>7561</td>\n",
       "      <td>214</td>\n",
       "      <td>2674</td>\n",
       "      <td>1338</td>\n",
       "    </tr>\n",
       "  </tbody>\n",
       "</table>\n",
       "</div>"
      ],
      "text/plain": [
       "   Fresh  Milk  Grocery  Frozen  Detergents_Paper  Delicatessen\n",
       "0  12669  9656     7561     214              2674          1338"
      ]
     },
     "metadata": {},
     "output_type": "display_data"
    },
    {
     "name": "stdout",
     "output_type": "stream",
     "text": [
      "Cluster 1 Sample:\n"
     ]
    },
    {
     "data": {
      "text/html": [
       "<div>\n",
       "<table border=\"1\" class=\"dataframe\">\n",
       "  <thead>\n",
       "    <tr style=\"text-align: right;\">\n",
       "      <th></th>\n",
       "      <th>Fresh</th>\n",
       "      <th>Milk</th>\n",
       "      <th>Grocery</th>\n",
       "      <th>Frozen</th>\n",
       "      <th>Detergents_Paper</th>\n",
       "      <th>Delicatessen</th>\n",
       "    </tr>\n",
       "  </thead>\n",
       "  <tbody>\n",
       "    <tr>\n",
       "      <th>4</th>\n",
       "      <td>22615</td>\n",
       "      <td>5410</td>\n",
       "      <td>7198</td>\n",
       "      <td>3915</td>\n",
       "      <td>1777</td>\n",
       "      <td>5185</td>\n",
       "    </tr>\n",
       "  </tbody>\n",
       "</table>\n",
       "</div>"
      ],
      "text/plain": [
       "   Fresh  Milk  Grocery  Frozen  Detergents_Paper  Delicatessen\n",
       "4  22615  5410     7198    3915              1777          5185"
      ]
     },
     "metadata": {},
     "output_type": "display_data"
    },
    {
     "name": "stdout",
     "output_type": "stream",
     "text": [
      "Cluster 2 Sample:\n"
     ]
    },
    {
     "data": {
      "text/html": [
       "<div>\n",
       "<table border=\"1\" class=\"dataframe\">\n",
       "  <thead>\n",
       "    <tr style=\"text-align: right;\">\n",
       "      <th></th>\n",
       "      <th>Fresh</th>\n",
       "      <th>Milk</th>\n",
       "      <th>Grocery</th>\n",
       "      <th>Frozen</th>\n",
       "      <th>Detergents_Paper</th>\n",
       "      <th>Delicatessen</th>\n",
       "    </tr>\n",
       "  </thead>\n",
       "  <tbody>\n",
       "    <tr>\n",
       "      <th>3</th>\n",
       "      <td>13265</td>\n",
       "      <td>1196</td>\n",
       "      <td>4221</td>\n",
       "      <td>6404</td>\n",
       "      <td>507</td>\n",
       "      <td>1788</td>\n",
       "    </tr>\n",
       "  </tbody>\n",
       "</table>\n",
       "</div>"
      ],
      "text/plain": [
       "   Fresh  Milk  Grocery  Frozen  Detergents_Paper  Delicatessen\n",
       "3  13265  1196     4221    6404               507          1788"
      ]
     },
     "metadata": {},
     "output_type": "display_data"
    },
    {
     "name": "stdout",
     "output_type": "stream",
     "text": [
      "Cluster 3 Sample:\n"
     ]
    },
    {
     "data": {
      "text/html": [
       "<div>\n",
       "<table border=\"1\" class=\"dataframe\">\n",
       "  <thead>\n",
       "    <tr style=\"text-align: right;\">\n",
       "      <th></th>\n",
       "      <th>Fresh</th>\n",
       "      <th>Milk</th>\n",
       "      <th>Grocery</th>\n",
       "      <th>Frozen</th>\n",
       "      <th>Detergents_Paper</th>\n",
       "      <th>Delicatessen</th>\n",
       "    </tr>\n",
       "  </thead>\n",
       "  <tbody>\n",
       "    <tr>\n",
       "      <th>23</th>\n",
       "      <td>26373</td>\n",
       "      <td>36423</td>\n",
       "      <td>22019</td>\n",
       "      <td>5154</td>\n",
       "      <td>4337</td>\n",
       "      <td>16523</td>\n",
       "    </tr>\n",
       "  </tbody>\n",
       "</table>\n",
       "</div>"
      ],
      "text/plain": [
       "    Fresh   Milk  Grocery  Frozen  Detergents_Paper  Delicatessen\n",
       "23  26373  36423    22019    5154              4337         16523"
      ]
     },
     "metadata": {},
     "output_type": "display_data"
    }
   ],
   "source": [
    "# Use the GMM to categorize the customers\n",
    "categorized = clusters_4.predict(reduced_data)\n",
    "\n",
    "# Print a sample from each cluster\n",
    "# Check if what we are seeing on the plot can also be seen on the actual data\n",
    "print \"Cluster 0 Sample:\"\n",
    "display(data[categorized == 0].head(1))\n",
    "#print data[categorized == 0].head(1).sum(axis=1).iloc[0]\n",
    "\n",
    "print \"Cluster 1 Sample:\"\n",
    "display(data[categorized == 1].head(1))\n",
    "#print data[categorized == 1].head(1).sum(axis=1).iloc[0]\n",
    "\n",
    "print \"Cluster 2 Sample:\"\n",
    "display(data[categorized == 2].head(1))\n",
    "#print data[categorized == 2].head(1).sum(axis=1).iloc[0]\n",
    "\n",
    "print \"Cluster 3 Sample:\"\n",
    "display(data[categorized == 3].head(1))\n",
    "#print data[categorized == 3].head(1).sum(axis=1).iloc[0]"
   ]
  },
  {
   "cell_type": "markdown",
   "metadata": {},
   "source": [
    "**7)** What are the central objects in each cluster? Describe them as customers."
   ]
  },
  {
   "cell_type": "markdown",
   "metadata": {
    "collapsed": true
   },
   "source": [
    "Answer: \n",
    "\n",
    "We can remember that the PC1 was mostly made up of Fresh which we see along the X axis.\n",
    "The PC2, shown along the Y axis, is mostly made up of Grocery, Milk and Detergents.\n",
    "\n",
    "**Cluster 2**: These customers are clearly the ones most dominated by the PC1, ordering mostly Fresh.\n",
    "\n",
    "**Cluster 1**: Large customers of Fresh but more influenced by PC2 than cluster 2, meaning these consume large Fresh orders and also some Grocery, Milk and Detergents.\n",
    "\n",
    "**Cluster 0**: Blue is mostly influenced by the PC2 but also shows some degree of influence by PC1, I would call this smaller customers that buy a less Fresh than Grocery, Milk and Detergents\n",
    "\n",
    "**Cluster 3**: Very large customers that dont buy a lot of Fresh and mostly buy PC2 items."
   ]
  },
  {
   "cell_type": "markdown",
   "metadata": {},
   "source": [
    "###Conclusions\n",
    "\n",
    "** 8)** Which of these techniques did you feel gave you the most insight into the data?"
   ]
  },
  {
   "cell_type": "markdown",
   "metadata": {
    "collapsed": true
   },
   "source": [
    "Answer: \n",
    "\n",
    "The PCA was very insightful as it both reduced the problem from 6 to just 2 dimensions and determined what might be good ways of categorizing the customers based on a combiantion of what they purchase captureing most of the variation in just 2 components. In order to get even more insight of the data, we paired the PCA with the GMM to look for clusters within the components to gain more infomration about how the customer behavoir turns into a category."
   ]
  },
  {
   "cell_type": "markdown",
   "metadata": {
    "collapsed": true
   },
   "source": [
    "**9)** How would you use that technique to help the company design new experiments?"
   ]
  },
  {
   "cell_type": "markdown",
   "metadata": {},
   "source": [
    "Answer: \n",
    "\n",
    "Now we know what types of customers the distributor has, so we could for example design a campaign to incentivize low Fresh consumers into buying more. This campaing whould not be sent to the consumers who are already large Fresh consumers. If the experiment was a new type of delivery for fresh foods, we could A/B test it on two diferent clusters and estimate how this change would affect all customers in these clusters based on the sample.\n",
    "This could even generate data that justifies the need for different delivery methods/schedules for different types of customers."
   ]
  },
  {
   "cell_type": "markdown",
   "metadata": {},
   "source": [
    "**10)** How would you use that data to help you predict future customer needs?"
   ]
  },
  {
   "cell_type": "markdown",
   "metadata": {},
   "source": [
    "Answer: \n",
    "\n",
    "With this PCA+GMM analysis we have gained insight into the data. But we have also gained a model that can now be used to predict customer types and therefore to anticipate their needs. In the case of a prospective new customer, all we would need is their expected consumption and this would be enough to categorize them according to the model. With the results from our model we coul offer special deals, adjust the sales pitch, adjust delivery times and modes and better serve new and exisitng customers. The model could even be used to know what type of customers the sales team should focus on."
   ]
  },
  {
   "cell_type": "markdown",
   "metadata": {},
   "source": [
    "References:\n",
    "\n",
    "https://georgemdallas.wordpress.com/2013/10/30/principal-component-analysis-4-dummies-eigenvectors-eigenvalues-and-dimension-reduction/\n",
    "\n",
    "http://matplotlib.org/api/markers_api.html"
   ]
  }
 ],
 "metadata": {
  "kernelspec": {
   "display_name": "Python 2",
   "language": "python",
   "name": "python2"
  },
  "language_info": {
   "codemirror_mode": {
    "name": "ipython",
    "version": 2
   },
   "file_extension": ".py",
   "mimetype": "text/x-python",
   "name": "python",
   "nbconvert_exporter": "python",
   "pygments_lexer": "ipython2",
   "version": "2.7.11"
  }
 },
 "nbformat": 4,
 "nbformat_minor": 0
}
